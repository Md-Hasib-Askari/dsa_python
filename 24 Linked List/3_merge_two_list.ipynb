{
 "cells": [
  {
   "cell_type": "markdown",
   "source": [
    "## 03 Merge Two Sorted Lists\n",
    "You are given the heads of two sorted linked lists **`list1`** and **`list2`**.\n",
    "\n",
    "Merge the two lists into one **sorted** list. The list should be made by splicing together the nodes of the first two lists.\n",
    "\n",
    "Return *the head of the merged linked list*.\n",
    "\n",
    "![](../assets/merge_ll.png)\n",
    "\n",
    "> **Input:** list1 = [1,2,4], list2 = [1,3,4]\n",
    "> **Output:** [1,1,2,3,4,4]\n",
    "\n",
    "[LeetCode Link](https://leetcode.com/problems/merge-two-sorted-lists)"
   ],
   "metadata": {
    "collapsed": false,
    "pycharm": {
     "name": "#%% md\n"
    }
   }
  },
  {
   "cell_type": "markdown",
   "source": [
    "### Main Idea: <br>\n",
    "1. Create a dummy node **itr** and set **head** = **itr**. <br>\n",
    "2. While **list1** and **list2** are not None, <br>\n",
    "    1. if **list1.val** < **list2.val**, <br>\n",
    "        - set **itr.next** = **list1** <br>\n",
    "        - set **list1** = **list1.next** <br>\n",
    "    2. else, <br>\n",
    "        - set **itr.next** = **list2** <br>\n",
    "        - set **list2** = **list2.next** <br>\n",
    "    3. set **itr** = **itr.next** <br>\n",
    "3. If **list1** is not None, <br>\n",
    "   - set **itr.next** = **list1** <br>\n",
    "4. If **list2** is not None, <br>\n",
    "   - set **itr.next** = **list2** <br>\n",
    "5. Return **head.next** <br>\n",
    "6. Repeat steps 2-5 until **list1** and **list2** are None. <br>\n",
    "\n",
    "Time Complexity: **O(n)** <br>\n",
    "Space Complexity: **O(1)** <br>"
   ],
   "metadata": {
    "collapsed": false,
    "pycharm": {
     "name": "#%% md\n"
    }
   }
  },
  {
   "cell_type": "code",
   "execution_count": 22,
   "outputs": [],
   "source": [
    "# imports\n",
    "from typing import Optional"
   ],
   "metadata": {
    "collapsed": false,
    "pycharm": {
     "name": "#%%\n"
    }
   }
  },
  {
   "cell_type": "code",
   "execution_count": 26,
   "outputs": [],
   "source": [
    "def print_list(head_node):\n",
    "    while head_node is not None:\n",
    "        print(head_node.val, end=' -> ')\n",
    "        head_node = head_node.next\n",
    "    print('None')"
   ],
   "metadata": {
    "collapsed": false,
    "pycharm": {
     "name": "#%%\n"
    }
   }
  },
  {
   "cell_type": "code",
   "execution_count": 27,
   "outputs": [
    {
     "name": "stdout",
     "output_type": "stream",
     "text": [
      "1 -> 1 -> 2 -> 3 -> 4 -> 4 -> None\n"
     ]
    }
   ],
   "source": [
    "# Definition for singly-linked list.\n",
    "class ListNode:\n",
    "    def __init__(self, val=0, next=None):\n",
    "        self.val = val\n",
    "        self.next = next\n",
    "\n",
    "\n",
    "def mergeTwoLists(list1: Optional[ListNode], list2: Optional[ListNode]) -> Optional[ListNode]:\n",
    "    head = itr = ListNode()\n",
    "\n",
    "    while list1 is not None and list2 is not None:\n",
    "        if list1.val < list2.val:\n",
    "            itr.next = list1\n",
    "            list1 = list1.next\n",
    "        else:\n",
    "            itr.next = list2\n",
    "            list2 = list2.next\n",
    "        itr = itr.next\n",
    "\n",
    "    itr.next = list1 or list2\n",
    "    return head.next\n",
    "\n",
    "if __name__ == \"__main__\":\n",
    "    list1 = ListNode(1)\n",
    "    list1.next = ListNode(2)\n",
    "    list1.next.next = ListNode(4)\n",
    "    # list1 -> 1 -> 2 -> 4 -> None\n",
    "\n",
    "    list2 = ListNode(1)\n",
    "    list2.next = ListNode(3)\n",
    "    list2.next.next = ListNode(4)\n",
    "    # list2 -> 1 -> 3 -> 4 -> None\n",
    "\n",
    "    head = mergeTwoLists(list1, list2) # head -> 1 -> 1 -> 2 -> 3 -> 4 -> 4 -> None\n",
    "    print_list(head)"
   ],
   "metadata": {
    "collapsed": false,
    "pycharm": {
     "name": "#%%\n"
    }
   }
  }
 ],
 "metadata": {
  "kernelspec": {
   "display_name": "Python 3",
   "language": "python",
   "name": "python3"
  },
  "language_info": {
   "codemirror_mode": {
    "name": "ipython",
    "version": 2
   },
   "file_extension": ".py",
   "mimetype": "text/x-python",
   "name": "python",
   "nbconvert_exporter": "python",
   "pygments_lexer": "ipython2",
   "version": "2.7.6"
  }
 },
 "nbformat": 4,
 "nbformat_minor": 0
}