{
 "cells": [
  {
   "cell_type": "markdown",
   "source": [
    "## 04 Delete Node without Head Pointer\n",
    "\n",
    "Given a pointer to a node to be deleted, delete the node. **Note that we don’t have a pointer to the head node.**\n",
    "\n",
    "[GFG Link](https://www.geeksforgeeks.org/given-only-a-pointer-to-a-node-to-be-deleted-in-a-singly-linked-list-how-do-you-delete-it/)"
   ],
   "metadata": {
    "collapsed": false,
    "pycharm": {
     "name": "#%% md\n"
    }
   }
  },
  {
   "cell_type": "markdown",
   "source": [
    "### Main Idea: <br>\n",
    "1. Copy the data from the next node to the node to be deleted. <br>\n",
    "2. Delete the next node. <br>\n",
    "3. If the node to be deleted is the last node, then make the next node as NULL. <br>\n",
    "4. If the node to be deleted is the only node, then delete the node and make the head as NULL. <br>\n",
    "5. If the node to be deleted is the first node, then make the next node as head. <br>\n",
    "\n",
    "Time Complexity: **O(1)** <br>\n",
    "Space Complexity: **O(1)**"
   ],
   "metadata": {
    "collapsed": false,
    "pycharm": {
     "name": "#%% md\n"
    }
   }
  },
  {
   "cell_type": "code",
   "execution_count": null,
   "outputs": [],
   "source": [
    "def deleteNode(curr):\n",
    "    if curr.next is None:\n",
    "        curr = None\n",
    "    else:\n",
    "        curr.data = curr.next.data\n",
    "        curr.next = curr.next.next\n",
    "    return curr"
   ],
   "metadata": {
    "collapsed": false,
    "pycharm": {
     "name": "#%%\n"
    }
   }
  }
 ],
 "metadata": {
  "kernelspec": {
   "display_name": "Python 3",
   "language": "python",
   "name": "python3"
  },
  "language_info": {
   "codemirror_mode": {
    "name": "ipython",
    "version": 2
   },
   "file_extension": ".py",
   "mimetype": "text/x-python",
   "name": "python",
   "nbconvert_exporter": "python",
   "pygments_lexer": "ipython2",
   "version": "2.7.6"
  }
 },
 "nbformat": 4,
 "nbformat_minor": 0
}