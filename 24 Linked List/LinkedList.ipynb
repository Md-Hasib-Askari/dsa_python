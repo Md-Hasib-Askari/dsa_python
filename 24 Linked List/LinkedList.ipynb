{
 "cells": [
  {
   "cell_type": "markdown",
   "source": [
    "## Reverse Linked List\n",
    "\n",
    "Given the <b>head</b> of a singly linked list, reverse the list, and return the reversed list.\n",
    "<br>\n",
    "<img src=\"../assets/reverse_ll.png\">\n",
    "\n",
    "<b>Input:</b> head = [1,2,3,4,5]\n",
    "<b>Output:</b> [5,4,3,2,1]\n",
    "\n",
    "<a href=\"https://leetcode.com/problems/reverse-linked-list/\">LeetCode Link</a>"
   ],
   "metadata": {
    "collapsed": false,
    "pycharm": {
     "name": "#%% md\n"
    }
   }
  },
  {
   "cell_type": "code",
   "execution_count": 8,
   "outputs": [
    {
     "name": "stdout",
     "output_type": "stream",
     "text": [
      "3 -> 2 -> 1 -> "
     ]
    }
   ],
   "source": [
    "from typing import Optional\n",
    "\n",
    "\n",
    "# Definition for singly-linked list.\n",
    "class ListNode:\n",
    "    def __init__(self, val=0, next_node=None):\n",
    "        self.val = val\n",
    "        self.next = next_node\n",
    "\n",
    "def reverseList(head_node: Optional[ListNode]) -> Optional[ListNode]:\n",
    "    prev = None\n",
    "    curr = head_node\n",
    "\n",
    "    while curr is not None:\n",
    "        next_node = curr.next\n",
    "        curr.next = prev\n",
    "        prev = curr\n",
    "        curr = next_node\n",
    "\n",
    "    return prev\n",
    "\n",
    "if __name__ == \"__main__\":\n",
    "    head = ListNode(1)\n",
    "    head.next = ListNode(2)\n",
    "    head.next.next = ListNode(3)\n",
    "    # head -> 1 -> 2 -> 3 -> None\n",
    "\n",
    "    reverse_list = reverseList(head) # head -> 3 -> 2 -> 1 -> None\n",
    "    while reverse_list is not None:\n",
    "        print(reverse_list.val, end=' -> ')\n",
    "        reverse_list = reverse_list.next"
   ],
   "metadata": {
    "collapsed": false,
    "pycharm": {
     "name": "#%%\n"
    }
   }
  },
  {
   "cell_type": "code",
   "execution_count": null,
   "outputs": [],
   "source": [
    "\n"
   ],
   "metadata": {
    "collapsed": false,
    "pycharm": {
     "name": "#%%\n"
    }
   }
  }
 ],
 "metadata": {
  "kernelspec": {
   "display_name": "Python 3",
   "language": "python",
   "name": "python3"
  },
  "language_info": {
   "codemirror_mode": {
    "name": "ipython",
    "version": 2
   },
   "file_extension": ".py",
   "mimetype": "text/x-python",
   "name": "python",
   "nbconvert_exporter": "python",
   "pygments_lexer": "ipython2",
   "version": "2.7.6"
  }
 },
 "nbformat": 4,
 "nbformat_minor": 0
}