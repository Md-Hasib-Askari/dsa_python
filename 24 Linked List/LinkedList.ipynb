{
 "cells": [
  {
   "cell_type": "markdown",
   "source": [
    "## 01 Reverse Linked List\n",
    "\n",
    "Given the <b>head</b> of a singly linked list, reverse the list, and return the reversed list.\n",
    "<br>\n",
    "![](../assets/reverse_ll.png)\n",
    "\n",
    "<b>Input:</b> head = [1,2,3,4,5]\n",
    "<b>Output:</b> [5,4,3,2,1]\n",
    "\n",
    "<a href=\"https://leetcode.com/problems/reverse-linked-list/\">LeetCode Link</a>"
   ],
   "metadata": {
    "collapsed": false,
    "pycharm": {
     "name": "#%% md\n"
    }
   }
  },
  {
   "cell_type": "markdown",
   "source": [
    "### Main Idea: <br>\n",
    "1. keep track of the **prev**, **curr**, and **next_node**. <br>\n",
    "2. set the **curr.next** = **prev** <br>\n",
    "3. move the **prev** = **curr** and **curr** = **next_node** <br>\n",
    "4. return the **prev** as the new **head** node. <br>\n",
    "5. repeat steps 2-4 until the **curr** is None. <br>\n",
    "\n",
    "Time Complexity: **O(n)** <br>\n",
    "Space Complexity: **O(1)** <br>"
   ],
   "metadata": {
    "collapsed": false,
    "pycharm": {
     "name": "#%% md\n"
    }
   }
  },
  {
   "cell_type": "code",
   "execution_count": 22,
   "outputs": [],
   "source": [
    "# imports\n",
    "from typing import Optional"
   ],
   "metadata": {
    "collapsed": false,
    "pycharm": {
     "name": "#%%\n"
    }
   }
  },
  {
   "cell_type": "code",
   "execution_count": 16,
   "outputs": [],
   "source": [
    "def print_list(head_node):\n",
    "    while head_node is not None:\n",
    "        print(head_node.val, end=' -> ')\n",
    "        head_node = head_node.next\n",
    "    print('None')"
   ],
   "metadata": {
    "collapsed": false,
    "pycharm": {
     "name": "#%%\n"
    }
   }
  },
  {
   "cell_type": "code",
   "execution_count": 17,
   "outputs": [
    {
     "name": "stdout",
     "output_type": "stream",
     "text": [
      "Original List:  1 -> 2 -> 3 -> None\n",
      "Reversed List:  3 -> 2 -> 1 -> None\n"
     ]
    }
   ],
   "source": [
    "# Definition for singly-linked list.\n",
    "class ListNode:\n",
    "    def __init__(self, val=0, next_node=None):\n",
    "        self.val = val\n",
    "        self.next = next_node\n",
    "\n",
    "def reverseList(head_node: Optional[ListNode]) -> Optional[ListNode]:\n",
    "    prev = None\n",
    "    curr = head_node\n",
    "\n",
    "    while curr is not None:\n",
    "        next_node = curr.next\n",
    "        curr.next = prev\n",
    "        prev = curr\n",
    "        curr = next_node\n",
    "\n",
    "    return prev\n",
    "\n",
    "if __name__ == \"__main__\":\n",
    "    head = ListNode(1)\n",
    "    head.next = ListNode(2)\n",
    "    head.next.next = ListNode(3)\n",
    "    # head -> 1 -> 2 -> 3 -> None\n",
    "\n",
    "    print('Original List: ', end=' ')\n",
    "    print_list(head)\n",
    "\n",
    "    head = reverseList(head) # head -> 3 -> 2 -> 1 -> None\n",
    "    print('Reversed List: ', end=' ')\n",
    "    print_list(head)\n"
   ],
   "metadata": {
    "collapsed": false,
    "pycharm": {
     "name": "#%%\n"
    }
   }
  },
  {
   "cell_type": "markdown",
   "source": [
    "## 02 Cycle Detection in Linked List\n",
    "\n",
    "Given **`head`**, the head of a linked list, determine if the linked list has a cycle in it.\n",
    "\n",
    "There is a cycle in a linked list if there is some node in the list that can be reached again by continuously following the **`next`** pointer. Internally, **`pos`** is used to denote the index of the node that tail's **`next`** pointer is connected to. **Note that **`pos`** is not passed as a parameter.**\n",
    "\n",
    "Return **`true`** if there is a cycle in the linked list. Otherwise, return **`false`**.\n",
    "\n",
    "![](../assets/cycle_ll.png)\n",
    "\n",
    "[LeetCode Link](https://leetcode.com/problems/linked-list-cycle)"
   ],
   "metadata": {
    "collapsed": false,
    "pycharm": {
     "name": "#%% md\n"
    }
   }
  },
  {
   "cell_type": "markdown",
   "source": [
    "### Main Idea: <br>\n",
    "1. Use two pointers **slow** and **fast**. <br>\n",
    "2. **slow** moves one node at a time and **fast** moves two nodes at a time. <br>\n",
    "3. If **slow** and **fast** meet at some point, then there is a cycle in the linked list. <br>\n",
    "4. If **fast** reaches the end of the linked list, then there is no cycle in the linked list. <br>\n",
    "5. Return **True** if there is a cycle and **False** if there is no cycle. <br>\n",
    "6. Repeat steps 2-5 until **fast** is None. <br>\n",
    "7. Return **False** if **fast** is None. <br>\n",
    "\n",
    "Time Complexity: **O(n)** <br>\n",
    "Space Complexity: **O(1)** <br>"
   ],
   "metadata": {
    "collapsed": false,
    "pycharm": {
     "name": "#%% md\n"
    }
   }
  },
  {
   "cell_type": "code",
   "execution_count": 21,
   "outputs": [
    {
     "name": "stdout",
     "output_type": "stream",
     "text": [
      "True\n"
     ]
    }
   ],
   "source": [
    "# Definition for singly-linked list.\n",
    "class ListNode:\n",
    "    def __init__(self, x):\n",
    "        self.val = x\n",
    "        self.next = None\n",
    "\n",
    "def hasCycle(head: Optional[ListNode]) -> bool:\n",
    "    slow = fast = head\n",
    "\n",
    "    while fast is not None and fast.next is not None:\n",
    "        fast = fast.next.next\n",
    "        slow = slow.next\n",
    "        if fast is slow:\n",
    "            return True\n",
    "    return False\n",
    "\n",
    "if __name__ == \"__main__\":\n",
    "    head = ListNode(3)\n",
    "    head.next = ListNode(2)\n",
    "    head.next.next = ListNode(0)\n",
    "    head.next.next.next = ListNode(-4)\n",
    "    head.next.next.next.next = head.next\n",
    "    # head -> 3 -> 2 -> 0 -> -4 -> 2\n",
    "\n",
    "    print(hasCycle(head))"
   ],
   "metadata": {
    "collapsed": false,
    "pycharm": {
     "name": "#%%\n"
    }
   }
  },
  {
   "cell_type": "markdown",
   "source": [],
   "metadata": {
    "collapsed": false,
    "pycharm": {
     "name": "#%% md\n"
    }
   }
  }
 ],
 "metadata": {
  "kernelspec": {
   "display_name": "Python 3",
   "language": "python",
   "name": "python3"
  },
  "language_info": {
   "codemirror_mode": {
    "name": "ipython",
    "version": 2
   },
   "file_extension": ".py",
   "mimetype": "text/x-python",
   "name": "python",
   "nbconvert_exporter": "python",
   "pygments_lexer": "ipython2",
   "version": "2.7.6"
  }
 },
 "nbformat": 4,
 "nbformat_minor": 0
}